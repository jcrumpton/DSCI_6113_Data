{
 "cells": [
  {
   "cell_type": "markdown",
   "metadata": {
    "slideshow": {
     "slide_type": "slide"
    },
    "tags": []
   },
   "source": [
    "# Programming for Data Science\n",
    "\n",
    "All of the following observations are solely Joe Crumpton's opinions.\n"
   ]
  },
  {
   "cell_type": "markdown",
   "metadata": {
    "slideshow": {
     "slide_type": "slide"
    }
   },
   "source": [
    "## Education\n",
    "\n",
    "* BS Computer Engineering, MSU\n",
    "* MS Computer Science, UTK\n",
    "* PhD Computer Science, MSU"
   ]
  },
  {
   "cell_type": "markdown",
   "metadata": {
    "slideshow": {
     "slide_type": "subslide"
    }
   },
   "source": [
    "## Software Developer\n",
    "* BASIC, Pascal, C, C++, Ada, Fortran (Education)\n",
    "* Smalltalk (Courier Route Planner) and Java (PowerPad Prototype), FedEx\n",
    "* Python GUI for Netmapper, Distributed Anaylatics and Security Institue, HPCC, MSU\n",
    "* GIS Developer, Geosystems Research Institute, HPCC, MSU"
   ]
  },
  {
   "cell_type": "markdown",
   "metadata": {
    "slideshow": {
     "slide_type": "subslide"
    }
   },
   "source": [
    "## Teacher\n",
    "* Taught High School Math and IT\n",
    "* Instructor and Asst Clinical Professor, CSE Department, MSU\n",
    "* Currently an Instructor in the Data Science Academic Institute\n",
    "    * Mostly courses in the Data Science Pedagogy Certificate program\n",
    "    * Teaching Applied Programming for Data Science in the MADS program"
   ]
  },
  {
   "cell_type": "markdown",
   "metadata": {
    "slideshow": {
     "slide_type": "slide"
    }
   },
   "source": [
    "## What about you?\n",
    "\n",
    "* Programming Language Poll  \n",
    "  https://cloud.crumpton.dev/apps/polls/s/qAFBUwfh  \n",
    "    \n",
    "  <img src=\"https://raw.githubusercontent.com/jcrumpton/DSCI_6113_Data/main/DS_Club/Programming%20Language%20Poll.png\">\n",
    "  \n",
    "  \n"
   ]
  },
  {
   "cell_type": "markdown",
   "metadata": {
    "slideshow": {
     "slide_type": "slide"
    }
   },
   "source": [
    "## Computer Programming\n",
    "\n",
    "* True in 1987 and true today...\n",
    "  * All data is 1s and 0s\n",
    "  * CPUs (and now GPUs) are really, really fast calculators\n",
    "  * Any computation can be expressed in terms of statement sequences, conditionals, and iteration"
   ]
  },
  {
   "cell_type": "markdown",
   "metadata": {
    "slideshow": {
     "slide_type": "subslide"
    }
   },
   "source": [
    "* What has changed... \n",
    "  * More programming language paradigms widely used: imperative (procedural, object-oriented), functional, logical, ...\n",
    "  * More programming languages: Go, Rust, F#, Scheme, Kotlin, Scala, ...\n",
    "  * More computing platforms: WWW, clusters (CPUs and GPUs), mobile devices, embedded devices, robots, ... "
   ]
  },
  {
   "cell_type": "markdown",
   "metadata": {
    "slideshow": {
     "slide_type": "slide"
    }
   },
   "source": [
    "## Learning Computer Programming - Past \n",
    "\n",
    "* Mostly in industry or in college computer science courses"
   ]
  },
  {
   "cell_type": "markdown",
   "metadata": {
    "slideshow": {
     "slide_type": "fragment"
    }
   },
   "source": [
    "* Concerned with basic operations\n",
    "  * sequences of single statements (`=`, `+` `-` `*` `/` `%`)\n",
    "  * conditional statements (`if`..`then`..`else`, `switch`)\n",
    "  * iteration (`for` loops, `while` loops, recursion)\n",
    "  * functions (repeating code with different inputs)\n"
   ]
  },
  {
   "cell_type": "markdown",
   "metadata": {
    "slideshow": {
     "slide_type": "subslide"
    }
   },
   "source": [
    "## Learning Computer Programming - Past\n",
    "\n",
    "* Built required code from the basics\n",
    "  * algorithms (search, sort, graph, etc.)\n",
    "  * data structures (linked lists, sets, hash tables, trees)\n"
   ]
  },
  {
   "cell_type": "markdown",
   "metadata": {
    "slideshow": {
     "slide_type": "fragment"
    }
   },
   "source": [
    "* Primarily text based\n",
    "* Computed theoretical code speed and memory usage (Big _O_ notation)\n",
    "\n"
   ]
  },
  {
   "cell_type": "markdown",
   "metadata": {
    "slideshow": {
     "slide_type": "slide"
    }
   },
   "source": [
    "## Learning Computer Programming - Present\n",
    "\n",
    "* Occurs at all educational levels and in many college departments (CSE, ECE, BIS, ITS, etc.)\n",
    "* Still concerned with basic operations as a way to teach problem solving / decomposition\n",
    "* __Use code libraries for algorithms and data structures__ *\n",
    "* Use visualizations (GUIs, Web browsers, etc.) in addition to text\n",
    "* Time / profile code to measure code speed and memory usage *\n",
    "\n",
    "&nbsp;&nbsp;&nbsp;&nbsp;&nbsp;&nbsp;&nbsp;&nbsp;&nbsp;&nbsp;* computer science courses may be exceptions"
   ]
  },
  {
   "cell_type": "markdown",
   "metadata": {
    "slideshow": {
     "slide_type": "slide"
    }
   },
   "source": [
    "## Code Comparison Prerequisites"
   ]
  },
  {
   "cell_type": "code",
   "execution_count": null,
   "metadata": {
    "slideshow": {
     "slide_type": "-"
    }
   },
   "outputs": [],
   "source": [
    "# A list and a set of random numbers will be searched in later cell blocks\n",
    "\n",
    "import random  \n",
    "\n",
    "# Create a list of 1000 random numbers\n",
    "a_list = random.sample(range(10000), 1000)\n",
    "print(f\"List Length: {len(a_list)}  Sum: {sum(a_list)}  {a_list[:5]}\")\n",
    "\n",
    "# Create a set from the list\n",
    "a_set = set(a_list)\n",
    "print(f\"Set Length:  {len(a_set)}  Sum: {sum(a_set)}\")\n"
   ]
  },
  {
   "cell_type": "markdown",
   "metadata": {
    "slideshow": {
     "slide_type": "slide"
    }
   },
   "source": [
    "## Search from Basics\n",
    "\n",
    "Sequences of Statements, Conditionals, Iteration"
   ]
  },
  {
   "cell_type": "code",
   "execution_count": null,
   "metadata": {
    "slideshow": {
     "slide_type": "-"
    }
   },
   "outputs": [],
   "source": [
    "%%timeit -r 7 -n 1000\n",
    "number_search_items = 100\n",
    "\n",
    "answers = []\n",
    "for target in range(number_search_items):\n",
    "    for each in a_list:\n",
    "        if each == target:\n",
    "            answers.append(target)\n",
    "            break\n",
    "\n",
    "# print(answers)"
   ]
  },
  {
   "cell_type": "markdown",
   "metadata": {
    "slideshow": {
     "slide_type": "subslide"
    }
   },
   "source": [
    "## Search with some Python Knowledge\n",
    "\n",
    "Use `in` operator "
   ]
  },
  {
   "cell_type": "code",
   "execution_count": null,
   "metadata": {},
   "outputs": [],
   "source": [
    "%%timeit -r 7 -n 1000\n",
    "number_search_items = 100\n",
    "\n",
    "answers = []\n",
    "for target in range(number_search_items):\n",
    "    if target in a_list:\n",
    "        answers.append(target)\n",
    "\n",
    "# print(answers)"
   ]
  },
  {
   "cell_type": "markdown",
   "metadata": {
    "slideshow": {
     "slide_type": "subslide"
    }
   },
   "source": [
    "## Pythonic List Search\n",
    "\n",
    "List Comprehension"
   ]
  },
  {
   "cell_type": "code",
   "execution_count": null,
   "metadata": {},
   "outputs": [],
   "source": [
    "%%timeit -r 7 -n 1000\n",
    "number_search_items = 100\n",
    "\n",
    "answers = [target for target in range(number_search_items) if target in a_list]\n",
    "\n",
    "# print(answers)"
   ]
  },
  {
   "cell_type": "markdown",
   "metadata": {
    "slideshow": {
     "slide_type": "subslide"
    }
   },
   "source": [
    "## Which do you prefer?\n",
    "\n",
    "* Search Code Preference Poll  \n",
    "  https://cloud.crumpton.dev/apps/polls/s/UhrlGKH2  \n",
    "    \n",
    "  <img src=\"https://raw.githubusercontent.com/jcrumpton/DSCI_6113_Data/main/DS_Club/Search%20Code%20Preference.png\">"
   ]
  },
  {
   "cell_type": "markdown",
   "metadata": {
    "slideshow": {
     "slide_type": "slide"
    }
   },
   "source": [
    "## Conclusions\n",
    "\n",
    "* Basic Operations\n",
    "  * Basic code is more understandable (maybe?)\n",
    "  * No large difference in performance\n",
    "* Pythonic Code\n",
    "  * Embedded control flow\n",
    "  * Python programmers prefer Pythonic code  \n",
    "    https://docs.python-guide.org/writing/style/"
   ]
  },
  {
   "cell_type": "markdown",
   "metadata": {
    "slideshow": {
     "slide_type": "slide"
    }
   },
   "source": [
    "## Understanding Strengths of Different Data Structures\n",
    "\n",
    "`set` is built on top of a hash table  \n",
    "$O(1)$ searches"
   ]
  },
  {
   "cell_type": "code",
   "execution_count": null,
   "metadata": {},
   "outputs": [],
   "source": [
    "%%timeit -r 7 -n 1000\n",
    "number_search_items = 100\n",
    "\n",
    "answers = []\n",
    "for target in range(number_search_items):\n",
    "    if target in a_set:\n",
    "        answers.append(target)\n",
    "\n",
    "# print(answers)"
   ]
  },
  {
   "cell_type": "markdown",
   "metadata": {
    "slideshow": {
     "slide_type": "subslide"
    }
   },
   "source": [
    "## Using a Set with List Comprehension"
   ]
  },
  {
   "cell_type": "code",
   "execution_count": null,
   "metadata": {},
   "outputs": [],
   "source": [
    "%%timeit -r 7 -n 1000\n",
    "number_search_items = 100\n",
    "\n",
    "answers = [target for target in range(number_search_items) if target in a_set]\n",
    "\n",
    "# print(answers)"
   ]
  },
  {
   "cell_type": "markdown",
   "metadata": {
    "slideshow": {
     "slide_type": "slide"
    }
   },
   "source": [
    "## Comparison"
   ]
  },
  {
   "cell_type": "code",
   "execution_count": null,
   "metadata": {},
   "outputs": [],
   "source": [
    "import matplotlib.pyplot as plt\n",
    " \n",
    "# width of the bars\n",
    "barWidth = 0.3\n",
    "\n",
    "sizes = [100, 200, 400]\n",
    "list_times = [501, 996, 2002]  # microseconds\n",
    "set_times = [4.2, 7.26, 11.2]\n",
    " \n",
    "# The x position of bars\n",
    "list_bars = range(len(sizes))\n",
    "set_bars = [x + barWidth for x in list_bars]\n",
    "\n",
    "plt.bar(list_bars, list_times, width = barWidth, color = 'blue', edgecolor = 'black', capsize=7, label='list')\n",
    "plt.bar(set_bars, set_times, width = barWidth, color = 'cyan', edgecolor = 'black', capsize=7, label='set')\n",
    "\n",
    "# general layout\n",
    "plt.xticks([r + (barWidth / 2) for r in range(len(sizes))], sizes)\n",
    "plt.xlabel('number of items searched for')\n",
    "plt.ylabel('microseconds')\n",
    "plt.title('Search Times for Lists and Sets')\n",
    "plt.legend()\n",
    "\n",
    "plt.show()"
   ]
  },
  {
   "cell_type": "markdown",
   "metadata": {
    "slideshow": {
     "slide_type": "slide"
    }
   },
   "source": [
    "## Implications for Programming\n",
    "\n",
    "* Write code that works, optimize if needed\n",
    "  * Don't guess, time / profile code\n",
    "  * Don't have to know why something is fast\n",
    "  * Eventually make sure that code is using all cores (CPUs/GPUs)\n",
    "* Learn Strengths and Weaknesses of \n",
    "  * Data Structures (Lists, Sets, Dictionaries)\n",
    "  * Packages (numpy, pandas, matplotlib, seaborn, etc.)\n"
   ]
  },
  {
   "cell_type": "markdown",
   "metadata": {
    "slideshow": {
     "slide_type": "slide"
    }
   },
   "source": [
    "## Another Example\n",
    "\n",
    "Summary Statistics"
   ]
  },
  {
   "cell_type": "code",
   "execution_count": null,
   "metadata": {
    "slideshow": {
     "slide_type": "slide"
    }
   },
   "outputs": [],
   "source": [
    "# Create a list of 10000 random numbers\n",
    "import random\n",
    "a_list = random.sample(range(100000), 10000)\n",
    "\n",
    "import statistics\n",
    "list_avg = statistics.mean(a_list)\n",
    "list_median = statistics.median(a_list)\n",
    "list_sum = sum(a_list)\n",
    "print(f\"List - {list_avg=} {list_median=} {list_sum=}\")"
   ]
  },
  {
   "cell_type": "code",
   "execution_count": null,
   "metadata": {
    "slideshow": {
     "slide_type": "-"
    }
   },
   "outputs": [],
   "source": [
    "import numpy as np\n",
    "\n",
    "an_array = np.array(a_list)\n",
    "\n",
    "array_avg = np.mean(an_array)\n",
    "array_median = np.median(an_array)\n",
    "array_sum = np.sum(an_array)\n",
    "print(f\"Array - {array_avg=} {array_median=} {array_sum=}\")"
   ]
  },
  {
   "cell_type": "code",
   "execution_count": null,
   "metadata": {
    "slideshow": {
     "slide_type": "slide"
    }
   },
   "outputs": [],
   "source": [
    "%%timeit -r 7 -n 100\n",
    "\n",
    "list_avg = statistics.mean(a_list)\n",
    "list_median = statistics.median(a_list)\n",
    "list_sum = sum(a_list)\n"
   ]
  },
  {
   "cell_type": "code",
   "execution_count": null,
   "metadata": {
    "slideshow": {
     "slide_type": "-"
    }
   },
   "outputs": [],
   "source": [
    "%%timeit -r 7 -n 100\n",
    "\n",
    "array_avg = np.mean(an_array)\n",
    "array_median = np.median(an_array)\n",
    "array_sum = np.sum(an_array)"
   ]
  },
  {
   "cell_type": "markdown",
   "metadata": {
    "slideshow": {
     "slide_type": "slide"
    }
   },
   "source": [
    "## Learning Python\n",
    "\n",
    "* Basics\n",
    "  * https://www.w3schools.com/python/\n",
    "  * https://learn-python.adamemery.dev/\n",
    "  * https://replit.com/@BrianTheado/python-koans\n",
    "  * https://www.freecodecamp.org/news/learn-python-basics/"
   ]
  },
  {
   "cell_type": "markdown",
   "metadata": {
    "slideshow": {
     "slide_type": "subslide"
    }
   },
   "source": [
    "* NumPy\n",
    "  * https://www.w3schools.com/python/numpy/\n",
    "  * https://numpy.org/doc/stable/user/absolute_beginners.html\n",
    "  \n",
    "* Pandas\n",
    "  * https://www.w3schools.com/python/pandas/\n",
    "  * https://www.kaggle.com/learn/pandas\n",
    "  * https://www.datacamp.com/tutorial/pandas\n",
    "  * https://www.learndatasci.com/tutorials/python-pandas-tutorial-complete-introduction-for-beginners/\n"
   ]
  },
  {
   "cell_type": "markdown",
   "metadata": {
    "slideshow": {
     "slide_type": "slide"
    }
   },
   "source": [
    "## Programming for Data Science\n",
    "\n",
    "<center>\n",
    "    <img src=\"https://raw.githubusercontent.com/jcrumpton/DSCI_6113_Data/main/DS_Club/Data%20Lifecycle.png\">\n",
    "</center>"
   ]
  },
  {
   "cell_type": "markdown",
   "metadata": {
    "slideshow": {
     "slide_type": "subslide"
    }
   },
   "source": [
    "<center>\n",
    "    <img src=\"https://raw.githubusercontent.com/jcrumpton/DSCI_6113_Data/main/DS_Club/Process%20Data.png\">\n",
    "</center>"
   ]
  },
  {
   "cell_type": "markdown",
   "metadata": {
    "slideshow": {
     "slide_type": "subslide"
    }
   },
   "source": [
    "<center>\n",
    "    <img src=\"https://raw.githubusercontent.com/jcrumpton/DSCI_6113_Data/main/DS_Club/Process%20Data%20Steps.png\">\n",
    "</center>"
   ]
  },
  {
   "cell_type": "markdown",
   "metadata": {
    "slideshow": {
     "slide_type": "slide"
    }
   },
   "source": [
    "## Tools to Learn / Use\n",
    "\n",
    "* Load and Clean Data  \n",
    "  Use Pandas unless you have a reason not to (data too large to fit in memory)\n",
    "* Explore Data  \n",
    "  Pandas, numpy, matplotlib\n",
    "* Models  \n",
    "  SciPy, scikit-learn  \n",
    "  https://www.w3schools.com/python/python_ml_getting_started.asp  \n",
    "  https://www.kaggle.com/learn/intro-to-machine-learning  \n",
    "  Deep Learning: Pytorch, Keras, TensorFlow  \n",
    "  https://www.datacamp.com/tutorial/pytorch-vs-tensorflow-vs-keras"
   ]
  },
  {
   "cell_type": "markdown",
   "metadata": {
    "slideshow": {
     "slide_type": "slide"
    }
   },
   "source": [
    "## Questions / Comments\n",
    "\n",
    "* Where do we go from here?"
   ]
  }
 ],
 "metadata": {
  "celltoolbar": "Slideshow",
  "kernelspec": {
   "display_name": "Python 3 (ipykernel)",
   "language": "python",
   "name": "python3"
  },
  "language_info": {
   "codemirror_mode": {
    "name": "ipython",
    "version": 3
   },
   "file_extension": ".py",
   "mimetype": "text/x-python",
   "name": "python",
   "nbconvert_exporter": "python",
   "pygments_lexer": "ipython3",
   "version": "3.11.8"
  }
 },
 "nbformat": 4,
 "nbformat_minor": 4
}
